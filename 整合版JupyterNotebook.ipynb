{
 "cells": [
  {
   "cell_type": "code",
   "execution_count": 0,
   "metadata": {
    "collapsed": false
   },
   "outputs": [
   ],
   "source": [
    "习题1"
   ]
  },
  {
   "cell_type": "code",
   "execution_count": 1,
   "metadata": {
    "collapsed": false
   },
   "outputs": [
    {
     "name": "stdout",
     "output_type": "stream",
     "text": [
      "Hello World!\n"
     ]
    }
   ],
   "source": [
    "print(\"Hello World!\")"
   ]
  },
  {
   "cell_type": "code",
   "execution_count": 0,
   "metadata": {
    "collapsed": false
   },
   "outputs": [
   ],
   "source": [
    "习题2"
   ]
  },
  {
   "cell_type": "code",
   "execution_count": 5,
   "metadata": {
    "cocalc": {
     "outputs": {
      "0": {
       "name": "input",
       "opts": {
        "password": false,
        "prompt": ""
       },
       "output_type": "stream",
       "value": "9"
      },
      "1": {
       "name": "input",
       "opts": {
        "password": false,
        "prompt": ""
       },
       "output_type": "stream",
       "value": "20"
      }
     }
    },
    "collapsed": false
   },
   "outputs": [
    {
     "name": "stdout",
     "output_type": "stream",
     "text": " 9"
    },
    {
     "name": "stdout",
     "output_type": "stream",
     "text": " 20"
    },
    {
     "name": "stdout",
     "output_type": "stream",
     "text": [
      "29.0\n"
     ]
    }
   ],
   "source": [
    "a = input()\n",
    "b = input()\n",
    "print(float(a) + float(b))"
   ]
  },
  {
   "cell_type": "code",
   "execution_count": 0,
   "metadata": {
    "collapsed": false
   },
   "outputs": [
   ],
   "source": [
    "习题3"
   ]
  },
  {
   "cell_type": "code",
   "execution_count": 13,
   "metadata": {
    "cocalc": {
     "outputs": {
      "0": {
       "name": "input",
       "opts": {
        "password": false,
        "prompt": ""
       },
       "output_type": "stream",
       "value": "99991"
      }
     }
    },
    "collapsed": false
   },
   "outputs": [
    {
     "name": "stdout",
     "output_type": "stream",
     "text": " 99991"
    },
    {
     "name": "stdout",
     "output_type": "stream",
     "text": [
      "9592\n"
     ]
    }
   ],
   "source": [
    "import math\n",
    "\n",
    "def is_prime(number):\n",
    "    if(number == 1):\n",
    "        return False\n",
    "    sqrt = int(math.sqrt(number))\n",
    "    for j in range(2, sqrt + 1):\n",
    "        if number % j == 0:\n",
    "            return False\n",
    "    return True\n",
    "\n",
    "\n",
    "def count_num(number):\n",
    "    count = 1\n",
    "    for i in range(2, number):\n",
    "        if is_prime(i) is True:\n",
    "            count += 1\n",
    "    return count\n",
    "\n",
    "\n",
    "if __name__ == \"__main__\":\n",
    "    num = int(input())\n",
    "    if(is_prime(num)):\n",
    "        print(count_num(num))\n",
    "    else:\n",
    "        print(-1)\n"
   ]
  },
  {
   "cell_type": "code",
   "execution_count": 0,
   "metadata": {
    "collapsed": false
   },
   "outputs": [
   ],
   "source": [
    "习题4"
   ]
  },
  {
   "cell_type": "code",
   "execution_count": 14,
   "metadata": {
    "cocalc": {
     "outputs": {
      "0": {
       "name": "input",
       "opts": {
        "password": false,
        "prompt": ""
       },
       "output_type": "stream",
       "value": "10"
      }
     }
    },
    "collapsed": false,
    "scrolled": true
   },
   "outputs": [
    {
     "name": "stdout",
     "output_type": "stream",
     "text": " 10"
    },
    {
     "name": "stdout",
     "output_type": "stream",
     "text": [
      "[1]\n",
      "[1, 1]\n",
      "[1, 2, 1]\n",
      "[1, 3, 3, 1]\n",
      "[1, 4, 6, 4, 1]\n",
      "[1, 5, 10, 10, 5, 1]\n",
      "[1, 6, 15, 20, 15, 6, 1]\n",
      "[1, 7, 21, 35, 35, 21, 7, 1]\n",
      "[1, 8, 28, 56, 70, 56, 28, 8, 1]\n",
      "[1, 9, 36, 84, 126, 126, 84, 36, 9, 1]\n"
     ]
    }
   ],
   "source": [
    "N = [1]\n",
    "h = int(input())\n",
    "for i in range(h):\n",
    "    print(N)\n",
    "    N.append(0)\n",
    "    N = [N[k] + N[k-1] for k in range(i+2)]"
   ]
  },
  {
   "cell_type": "code",
   "execution_count": 0,
   "metadata": {
    "collapsed": false,
    "scrolled": true
   },
   "outputs": [
   ],
   "source": [
    "习题5"
   ]
  },
  {
   "cell_type": "code",
   "execution_count": 7,
   "metadata": {
    "cocalc": {
     "outputs": {
      "0": {
       "name": "input",
       "opts": {
        "password": false,
        "prompt": ""
       },
       "output_type": "stream",
       "value": "5"
      },
      "1": {
       "name": "input",
       "opts": {
        "password": false,
        "prompt": ""
       },
       "output_type": "stream",
       "value": "4"
      },
      "2": {
       "name": "input",
       "opts": {
        "password": false,
        "prompt": ""
       },
       "output_type": "stream",
       "value": "5"
      },
      "3": {
       "name": "input",
       "opts": {
        "password": false,
        "prompt": ""
       },
       "output_type": "stream",
       "value": "6"
      },
      "4": {
       "name": "input",
       "opts": {
        "password": false,
        "prompt": ""
       },
       "output_type": "stream",
       "value": "1"
      },
      "5": {
       "name": "input",
       "opts": {
        "password": false,
        "prompt": ""
       },
       "output_type": "stream",
       "value": "2"
      }
     }
    },
    "collapsed": false,
    "scrolled": true
   },
   "outputs": [
    {
     "name": "stdout",
     "output_type": "stream",
     "text": " 5"
    },
    {
     "name": "stdout",
     "output_type": "stream",
     "text": " 4"
    },
    {
     "name": "stdout",
     "output_type": "stream",
     "text": " 5"
    },
    {
     "name": "stdout",
     "output_type": "stream",
     "text": " 6"
    },
    {
     "name": "stdout",
     "output_type": "stream",
     "text": " 1"
    },
    {
     "name": "stdout",
     "output_type": "stream",
     "text": " 2"
    },
    {
     "name": "stdout",
     "output_type": "stream",
     "text": [
      "[1, 5, 6, 4, 2]\n",
      "[1, 2, 6, 4, 5]\n",
      "[1, 2, 4, 6, 5]\n",
      "[1, 2, 4, 5, 6]\n"
     ]
    }
   ],
   "source": [
    "A = []\n",
    "n = int(input())\n",
    "for i in range(n):\n",
    "    A.append(int(input()))\n",
    "for i in range(len(A) - 1):\n",
    "\n",
    "    min_idx = i\n",
    "    for j in range(i+1, len(A)):\n",
    "        if A[min_idx] > A[j]:\n",
    "            min_idx = j\n",
    "    A[i], A[min_idx] = A[min_idx], A[i]\n",
    "    print(A)\n"
   ]
  },
  {
   "cell_type": "code",
   "execution_count": 0,
   "metadata": {
    "collapsed": false
   },
   "outputs": [
   ],
   "source": [
    "习题6"
   ]
  },
  {
   "cell_type": "code",
   "execution_count": 10,
   "metadata": {
    "cocalc": {
     "outputs": {
      "0": {
       "name": "input",
       "opts": {
        "password": false,
        "prompt": ""
       },
       "output_type": "stream",
       "value": "77"
      }
     }
    },
    "collapsed": false
   },
   "outputs": [
    {
     "name": "stdout",
     "output_type": "stream",
     "text": " 77"
    },
    {
     "name": "stdout",
     "output_type": "stream",
     "text": [
      "C\n"
     ]
    }
   ],
   "source": [
    "grade = int(input())\n",
    "if grade > 89 and grade <= 100:\n",
    "        print('A')\n",
    "elif grade > 79:\n",
    "        print( 'B')\n",
    "elif grade > 69:\n",
    "        print('C')\n",
    "elif grade >59:\n",
    "        print('D')\n",
    "elif grade > 0:\n",
    "        print('E')\n",
    "else:\n",
    "        print(\"invalid\")\n"
   ]
  },
  {
   "cell_type": "code",
   "execution_count": 0,
   "metadata": {
    "collapsed": false
   },
   "outputs": [
   ],
   "source": [
    "习题7"
   ]
  },
  {
   "cell_type": "code",
   "execution_count": 16,
   "metadata": {
    "cocalc": {
     "outputs": {
      "0": {
       "name": "input",
       "opts": {
        "password": false,
        "prompt": ""
       },
       "output_type": "stream",
       "value": "121"
      }
     }
    },
    "collapsed": false
   },
   "outputs": [
    {
     "name": "stdout",
     "output_type": "stream",
     "text": " 121"
    },
    {
     "name": "stdout",
     "output_type": "stream",
     "text": [
      "0.79\n"
     ]
    }
   ],
   "source": [
    "sum = 0\n",
    "N = int(input())\n",
    "for i in range(int((N+1)/2)):\n",
    "    if(i % 2 == 0):\n",
    "        sum += 1/(2 * i + 1)\n",
    "    else:\n",
    "        sum -= 1/(2 * i + 1)\n",
    "print(round(sum,2))"
   ]
  },
  {
   "cell_type": "code",
   "execution_count": 0,
   "metadata": {
    "collapsed": false
   },
   "outputs": [
   ],
   "source": [
    "习题8"
   ]
  },
  {
   "cell_type": "code",
   "execution_count": 3,
   "metadata": {
    "cocalc": {
     "outputs": {
      "0": {
       "name": "input",
       "opts": {
        "password": false,
        "prompt": ""
       },
       "output_type": "stream",
       "value": "10000"
      }
     }
    },
    "collapsed": false
   },
   "outputs": [
    {
     "name": "stdout",
     "output_type": "stream",
     "text": " 10000"
    },
    {
     "name": "stdout",
     "output_type": "stream",
     "text": [
      "23331668\n"
     ]
    }
   ],
   "source": [
    "n = int(input())\n",
    "sum = 0\n",
    "for i in range(1,n):\n",
    "    if(i % 3 == 0 or i % 5 == 0):\n",
    "        sum += i\n",
    "print(sum)"
   ]
  },
  {
   "cell_type": "code",
   "execution_count": 0,
   "metadata": {
    "collapsed": false
   },
   "outputs": [
   ],
   "source": [
    "习题9"
   ]
  },
  {
   "cell_type": "code",
   "execution_count": 26,
   "metadata": {
    "cocalc": {
     "outputs": {
      "0": {
       "name": "input",
       "opts": {
        "password": false,
        "prompt": ""
       },
       "output_type": "stream",
       "value": "67786"
      }
     }
    },
    "collapsed": false
   },
   "outputs": [
    {
     "name": "stdout",
     "output_type": "stream",
     "text": " 67786"
    },
    {
     "name": "stdout",
     "output_type": "stream",
     "text": [
      "38\n"
     ]
    }
   ],
   "source": [
    "import math\n",
    "\n",
    "def prime(num):\n",
    "    for i in range(2, int(math.sqrt(num))+1):\n",
    "        if num%i==0:\n",
    "            return False\n",
    "    return True\n",
    "\n",
    "def cycle(num):\n",
    "    strNum=str(num)\n",
    "    length=len(strNum)\n",
    "    cycle_all=[]\n",
    "    for i in range(length):\n",
    "        number=int(strNum[i:]+strNum[:i])\n",
    "        cycle_all.append(number)\n",
    "    return cycle_all\n",
    "\n",
    "def main(inNum):\n",
    "    count=0\n",
    "    for i in range(2, inNum):\n",
    "        judge = True\n",
    "        for num in cycle(i):\n",
    "            if not prime(num):\n",
    "                judge=False\n",
    "                break\n",
    "        if judge:\n",
    "            count+=1\n",
    "    print(count)\n",
    "\n",
    "if __name__=='__main__':\n",
    "    n=int(input())\n",
    "    main(n)"
   ]
  },
  {
   "cell_type": "code",
   "execution_count": 0,
   "metadata": {
    "collapsed": false
   },
   "outputs": [
   ],
   "source": [
    "习题10"
   ]
  },
  {
   "cell_type": "code",
   "execution_count": 2,
   "metadata": {
    "cocalc": {
     "outputs": {
      "0": {
       "name": "input",
       "opts": {
        "password": false,
        "prompt": ""
       },
       "output_type": "stream",
       "value": "10"
      },
      "1": {
       "name": "input",
       "opts": {
        "password": false,
        "prompt": ""
       },
       "output_type": "stream",
       "value": "20"
      }
     }
    },
    "collapsed": false,
    "scrolled": true
   },
   "outputs": [
    {
     "name": "stdout",
     "output_type": "stream",
     "text": " 10"
    },
    {
     "name": "stdout",
     "output_type": "stream",
     "text": " 20"
    },
    {
     "name": "stdout",
     "output_type": "stream",
     "text": [
      "616665\n"
     ]
    }
   ],
   "source": [
    "import math\n",
    "m = int(input())\n",
    "n = int(input())\n",
    "sum = 0\n",
    "if(m > n):\n",
    "    print('invalid')\n",
    "else:\n",
    "    for i in range(1, m+1):\n",
    "        sum += math.factorial(n)/(math.factorial(n-i) * math.factorial(i))\n",
    "print(int(sum))"
   ]
  },
  {
   "cell_type": "code",
   "execution_count": 0,
   "metadata": {
    "collapsed": false
   },
   "outputs": [
   ],
   "source": [
    "习题11"
   ]
  },
  {
   "cell_type": "code",
   "execution_count": 4,
   "metadata": {
    "cocalc": {
     "outputs": {
      "0": {
       "name": "input",
       "opts": {
        "password": false,
        "prompt": ""
       },
       "output_type": "stream",
       "value": "prefixstr"
      },
      "1": {
       "name": "input",
       "opts": {
        "password": false,
        "prompt": ""
       },
       "output_type": "stream",
       "value": "pre"
      }
     }
    },
    "collapsed": false
   },
   "outputs": [
    {
     "name": "stdout",
     "output_type": "stream",
     "text": " prefixstr"
    },
    {
     "name": "stdout",
     "output_type": "stream",
     "text": " pre"
    },
    {
     "name": "stdout",
     "output_type": "stream",
     "text": [
      "2\n"
     ]
    }
   ],
   "source": [
    "def is_prefix(str1, str2):\n",
    "    return (str1 in str2) and str2.find(str1) == 0\n",
    "if __name__ == \"__main__\":\n",
    "    str1 = input()\n",
    "    str2 = input()\n",
    "    if(is_prefix(str1,str2)):\n",
    "        print(1)\n",
    "    elif(is_prefix(str2,str1)):\n",
    "        print(2)\n",
    "    else:\n",
    "        print(\"no\")"
   ]
  },
  {
   "cell_type": "code",
   "execution_count": 0,
   "metadata": {
    "collapsed": false
   },
   "outputs": [
   ],
   "source": [
    "习题12"
   ]
  },
  {
   "cell_type": "code",
   "execution_count": 8,
   "metadata": {
    "cocalc": {
     "outputs": {
      "0": {
       "name": "input",
       "opts": {
        "password": false,
        "prompt": ""
       },
       "output_type": "stream",
       "value": "2"
      },
      "1": {
       "name": "input",
       "opts": {
        "password": false,
        "prompt": ""
       },
       "output_type": "stream",
       "value": "3"
      },
      "2": {
       "name": "input",
       "opts": {
        "password": false,
        "prompt": ""
       },
       "output_type": "stream",
       "value": "4"
      }
     }
    },
    "collapsed": false
   },
   "outputs": [
    {
     "name": "stdout",
     "output_type": "stream",
     "text": " 2"
    },
    {
     "name": "stdout",
     "output_type": "stream",
     "text": " 3"
    },
    {
     "name": "stdout",
     "output_type": "stream",
     "text": " 4"
    },
    {
     "name": "stdout",
     "output_type": "stream",
     "text": [
      "center:(2.00,3.00),radius:4.00\n",
      "area:50.27\n"
     ]
    }
   ],
   "source": [
    "import math\n",
    "class Circle(object):\n",
    "    def __init__(self, x,y,r):\n",
    "        self.x = x\n",
    "        self.y = y\n",
    "        self.r = r\n",
    "    def print_info(self):\n",
    "        print(\"center:(%.2f,%.2f),radius:%.2f\" % (self.x,self.y,self.r))\n",
    "        print('area:%.2f' % (math.pi * self.r * self.r))\n",
    "x = float(input())\n",
    "y = float(input())\n",
    "r = float(input())\n",
    "circle = Circle(x,y,r)\n",
    "circle.print_info()"
   ]
  },
  {
   "cell_type": "code",
   "execution_count": 0,
   "metadata": {
    "collapsed": false
   },
   "outputs": [
   ],
   "source": [
    "习题13"
   ]
  },
  {
   "cell_type": "code",
   "execution_count": 12,
   "metadata": {
    "cocalc": {
     "outputs": {
      "0": {
       "name": "input",
       "opts": {
        "password": false,
        "prompt": ""
       },
       "output_type": "stream",
       "value": "23"
      },
      "1": {
       "name": "input",
       "opts": {
        "password": false,
        "prompt": ""
       },
       "output_type": "stream",
       "value": "58"
      },
      "2": {
       "name": "input",
       "opts": {
        "password": false,
        "prompt": ""
       },
       "output_type": "stream",
       "value": "59"
      },
      "3": {
       "name": "input",
       "opts": {
        "password": false,
        "prompt": ""
       },
       "output_type": "stream",
       "value": "100"
      }
     }
    },
    "collapsed": false
   },
   "outputs": [
    {
     "name": "stdout",
     "output_type": "stream",
     "text": " 23"
    },
    {
     "name": "stdout",
     "output_type": "stream",
     "text": " 58"
    },
    {
     "name": "stdout",
     "output_type": "stream",
     "text": " 59"
    },
    {
     "name": "stdout",
     "output_type": "stream",
     "text": " 100"
    },
    {
     "name": "stdout",
     "output_type": "stream",
     "text": [
      "23:58:59\n",
      "23:59:00\n",
      "23:59:01\n",
      "23:59:02\n",
      "23:59:03\n",
      "23:59:04\n",
      "23:59:05\n",
      "23:59:06\n",
      "23:59:07\n",
      "23:59:08\n",
      "23:59:09\n",
      "23:59:10\n",
      "23:59:11\n",
      "23:59:12\n",
      "23:59:13\n",
      "23:59:14\n",
      "23:59:15\n",
      "23:59:16\n",
      "23:59:17\n",
      "23:59:18\n",
      "23:59:19\n",
      "23:59:20\n",
      "23:59:21\n",
      "23:59:22\n",
      "23:59:23\n",
      "23:59:24\n",
      "23:59:25\n",
      "23:59:26\n",
      "23:59:27\n",
      "23:59:28\n",
      "23:59:29\n",
      "23:59:30\n",
      "23:59:31\n",
      "23:59:32\n",
      "23:59:33\n",
      "23:59:34\n",
      "23:59:35\n",
      "23:59:36\n",
      "23:59:37\n",
      "23:59:38\n",
      "23:59:39\n",
      "23:59:40\n",
      "23:59:41\n",
      "23:59:42\n",
      "23:59:43\n",
      "23:59:44\n",
      "23:59:45\n",
      "23:59:46\n",
      "23:59:47\n",
      "23:59:48\n",
      "23:59:49\n",
      "23:59:50\n",
      "23:59:51\n",
      "23:59:52\n",
      "23:59:53\n",
      "23:59:54\n",
      "23:59:55\n",
      "23:59:56\n",
      "23:59:57\n",
      "23:59:58\n",
      "23:59:59\n",
      "00:00:00\n",
      "00:00:01\n",
      "00:00:02\n",
      "00:00:03\n",
      "00:00:04\n",
      "00:00:05\n",
      "00:00:06\n",
      "00:00:07\n",
      "00:00:08\n",
      "00:00:09\n",
      "00:00:10\n",
      "00:00:11\n",
      "00:00:12\n",
      "00:00:13\n",
      "00:00:14\n",
      "00:00:15\n",
      "00:00:16\n",
      "00:00:17\n",
      "00:00:18\n",
      "00:00:19\n",
      "00:00:20\n",
      "00:00:21\n",
      "00:00:22\n",
      "00:00:23\n",
      "00:00:24\n",
      "00:00:25\n",
      "00:00:26\n",
      "00:00:27\n",
      "00:00:28\n",
      "00:00:29\n",
      "00:00:30\n",
      "00:00:31\n",
      "00:00:32\n",
      "00:00:33\n",
      "00:00:34\n",
      "00:00:35\n",
      "00:00:36\n",
      "00:00:37\n",
      "00:00:38\n"
     ]
    }
   ],
   "source": [
    "class Time:\n",
    "    def __init__(self,hour,minute,second):\n",
    "        self.SetTime(hour,minute,second)\n",
    "    def SetTime(self,hour,minute,second):\n",
    "        self.hour,self.minute,self.second =hour, minute, second\n",
    "    def AddOneSec(self):\n",
    "        self.second += 1\n",
    "        if self.second ==60:\n",
    "            self.minute += 1\n",
    "            self.second=0\n",
    "        if self.minute==60:\n",
    "            self.hour+=1\n",
    "            self.minute=0\n",
    "        if self.hour==24:\n",
    "            self.hour=0\n",
    "    def PrintTime(self):\n",
    "        print(\"{0:02d}:{1:02d}:{2:02d}\".format(\n",
    "            self.hour,self.minute,self.second))\n",
    "hour = int(input())\n",
    "min = int(input())\n",
    "sec = int(input())\n",
    "count = int(input())\n",
    "time = Time(hour,min,sec)\n",
    "time.PrintTime()\n",
    "for i in range(count - 1):\n",
    "    time.AddOneSec()\n",
    "    time.PrintTime()"
   ]
  },
  {
   "cell_type": "code",
   "execution_count": 0,
   "metadata": {
    "collapsed": false
   },
   "outputs": [
   ],
   "source": [
    "习题14"
   ]
  },
  {
   "cell_type": "code",
   "execution_count": 14,
   "metadata": {
    "cocalc": {
     "outputs": {
      "0": {
       "name": "input",
       "opts": {
        "password": false,
        "prompt": ""
       },
       "output_type": "stream",
       "value": "3"
      },
      "1": {
       "name": "input",
       "opts": {
        "password": false,
        "prompt": ""
       },
       "output_type": "stream",
       "value": "5.2"
      }
     }
    },
    "collapsed": false
   },
   "outputs": [
    {
     "name": "stdout",
     "output_type": "stream",
     "text": " 3"
    },
    {
     "name": "stdout",
     "output_type": "stream",
     "text": " 5.2"
    },
    {
     "name": "stdout",
     "output_type": "stream",
     "text": [
      "radius:3.00,height:5.20\n",
      "volume:147.03\n"
     ]
    }
   ],
   "source": [
    "import math\n",
    "class Cylinder(object):\n",
    "    def __init__(self, r,h):\n",
    "        self.r = r\n",
    "        self.h = h\n",
    "    def GetVolume(self):\n",
    "        return math.pi * self.r * self.r * h\n",
    "    def print_info(self):\n",
    "        print(\"radius:%.2f,height:%.2f\" % (self.r,self.h))\n",
    "        print('volume:%.2f' % self.GetVolume())\n",
    "r = float(input())\n",
    "h = float(input())\n",
    "cylinder = Cylinder(r,h)\n",
    "cylinder.print_info()"
   ]
  },
  {
   "cell_type": "code",
   "execution_count": 0,
   "metadata": {
    "collapsed": false
   },
   "outputs": [
   ],
   "source": [
    "习题15"
   ]
  },
  {
   "cell_type": "code",
   "execution_count": 15,
   "metadata": {
    "cocalc": {
     "outputs": {
      "0": {
       "name": "input",
       "opts": {
        "password": false,
        "prompt": ""
       },
       "output_type": "stream",
       "value": "3"
      }
     }
    },
    "collapsed": false
   },
   "outputs": [
    {
     "name": "stdout",
     "output_type": "stream",
     "text": " 3"
    },
    {
     "name": "stdout",
     "output_type": "stream",
     "text": [
      "A --> C\n",
      "A --> B\n",
      "C --> B\n",
      "A --> C\n",
      "B --> A\n",
      "B --> C\n",
      "A --> C\n"
     ]
    }
   ],
   "source": [
    "def hanoi(n, a, b, c):\n",
    "    if n == 1:\n",
    "        print(a, '-->', c)\n",
    "    else:\n",
    "        hanoi(n - 1, a, c, b)\n",
    "        print(a, '-->', c)\n",
    "        hanoi(n - 1, b, a, c)\n",
    "n = int(input())\n",
    "hanoi(n, 'A', 'B', 'C')"
   ]
  },
  {
   "cell_type": "code",
   "execution_count": 0,
   "metadata": {
    "collapsed": false
   },
   "outputs": [
   ],
   "source": [
    "习题16"
   ]
  },
  {
   "cell_type": "code",
   "execution_count": 19,
   "metadata": {
    "cocalc": {
     "outputs": {
      "0": {
       "name": "input",
       "opts": {
        "password": false,
        "prompt": ""
       },
       "output_type": "stream",
       "value": "3"
      }
     }
    },
    "collapsed": false
   },
   "outputs": [
    {
     "name": "stdout",
     "output_type": "stream",
     "text": " 3"
    },
    {
     "name": "stdout",
     "output_type": "stream",
     "text": [
      "[1, 2, 3]\n",
      "[1, 3, 2]\n",
      "[2, 1, 3]\n",
      "[2, 3, 1]\n",
      "[3, 2, 1]\n",
      "[3, 1, 2]\n"
     ]
    }
   ],
   "source": [
    "def perm(n,begin,end):\n",
    "    global COUNT\n",
    "    if begin>=end:\n",
    "        print(n)\n",
    "    else:\n",
    "        i=begin\n",
    "        for num in range(begin,end):\n",
    "            n[num],n[i]=n[i],n[num]\n",
    "            perm(n,begin+1,end)\n",
    "            n[num],n[i]=n[i],n[num]\n",
    "\n",
    "n= list(range(1, int(input()) + 1))\n",
    "perm(n,0,len(n))"
   ]
  },
  {
   "cell_type": "code",
   "execution_count": 0,
   "metadata": {
    "collapsed": false
   },
   "outputs": [
   ],
   "source": [
    "习题17.01"
   ]
  },
  {
   "cell_type": "code",
   "execution_count": 21,
   "metadata": {
    "cocalc": {
     "outputs": {
      "0": {
       "name": "input",
       "opts": {
        "password": false,
        "prompt": ""
       },
       "output_type": "stream",
       "value": "5"
      },
      "1": {
       "name": "input",
       "opts": {
        "password": false,
        "prompt": ""
       },
       "output_type": "stream",
       "value": "10"
      },
      "10": {
       "name": "input",
       "opts": {
        "password": false,
        "prompt": ""
       },
       "output_type": "stream",
       "value": "4"
      },
      "11": {
       "name": "input",
       "opts": {
        "password": false,
        "prompt": ""
       },
       "output_type": "stream",
       "value": "6"
      },
      "2": {
       "name": "input",
       "opts": {
        "password": false,
        "prompt": ""
       },
       "output_type": "stream",
       "value": "2"
      },
      "3": {
       "name": "input",
       "opts": {
        "password": false,
        "prompt": ""
       },
       "output_type": "stream",
       "value": "2"
      },
      "4": {
       "name": "input",
       "opts": {
        "password": false,
        "prompt": ""
       },
       "output_type": "stream",
       "value": "6"
      },
      "5": {
       "name": "input",
       "opts": {
        "password": false,
        "prompt": ""
       },
       "output_type": "stream",
       "value": "5"
      },
      "6": {
       "name": "input",
       "opts": {
        "password": false,
        "prompt": ""
       },
       "output_type": "stream",
       "value": "4"
      },
      "7": {
       "name": "input",
       "opts": {
        "password": false,
        "prompt": ""
       },
       "output_type": "stream",
       "value": "3"
      },
      "8": {
       "name": "input",
       "opts": {
        "password": false,
        "prompt": ""
       },
       "output_type": "stream",
       "value": "6"
      },
      "9": {
       "name": "input",
       "opts": {
        "password": false,
        "prompt": ""
       },
       "output_type": "stream",
       "value": "5"
      }
     }
    },
    "collapsed": false,
    "scrolled": true
   },
   "outputs": [
    {
     "name": "stdout",
     "output_type": "stream",
     "text": " 5"
    },
    {
     "name": "stdout",
     "output_type": "stream",
     "text": " 10"
    },
    {
     "name": "stdout",
     "output_type": "stream",
     "text": " 2"
    },
    {
     "name": "stdout",
     "output_type": "stream",
     "text": " 2"
    },
    {
     "name": "stdout",
     "output_type": "stream",
     "text": " 6"
    },
    {
     "name": "stdout",
     "output_type": "stream",
     "text": " 5"
    },
    {
     "name": "stdout",
     "output_type": "stream",
     "text": " 4"
    },
    {
     "name": "stdout",
     "output_type": "stream",
     "text": " 3"
    },
    {
     "name": "stdout",
     "output_type": "stream",
     "text": " 6"
    },
    {
     "name": "stdout",
     "output_type": "stream",
     "text": " 5"
    },
    {
     "name": "stdout",
     "output_type": "stream",
     "text": " 4"
    },
    {
     "name": "stdout",
     "output_type": "stream",
     "text": " 6"
    },
    {
     "name": "stdout",
     "output_type": "stream",
     "text": [
      "15\n"
     ]
    }
   ],
   "source": [
    "def bag(n,c,w,v):\n",
    "  res=[[-1 for j in range(c+1)] for i in range(n+1)]\n",
    "  for j in range(c+1):\n",
    "    res[0][j]=0\n",
    "  for i in range(1,n+1):\n",
    "    for j in range(1,c+1):\n",
    "      res[i][j]=res[i-1][j]\n",
    "      if j>=w[i-1] and res[i][j]<res[i-1][j-w[i-1]]+v[i-1]:\n",
    "        res[i][j]=res[i-1][j-w[i-1]]+v[i-1]\n",
    "  return res\n",
    "def show(n,c,res):\n",
    "  print(res[n][c])\n",
    "\n",
    "if __name__=='__main__':\n",
    "  n=int(input())\n",
    "  c=int(input())\n",
    "  w=[]\n",
    "  for i in range(n):\n",
    "     w.append(int(input()))\n",
    "  v=[]\n",
    "  for i in range(n):\n",
    "     v.append(int(input()))\n",
    "  res=bag(n,c,w,v)\n",
    "  show(n,c,res)"
   ]
  },
  {
   "cell_type": "code",
   "execution_count": 0,
   "metadata": {
    "collapsed": false
   },
   "outputs": [
   ],
   "source": [
    "习题18"
   ]
  },
  {
   "cell_type": "code",
   "execution_count": 27,
   "metadata": {
    "cocalc": {
     "outputs": {
      "0": {
       "name": "input",
       "opts": {
        "password": false,
        "prompt": ""
       },
       "output_type": "stream",
       "value": "5"
      },
      "1": {
       "name": "input",
       "opts": {
        "password": false,
        "prompt": ""
       },
       "output_type": "stream",
       "value": "1 5 18 45 78"
      },
      "2": {
       "name": "input",
       "opts": {
        "password": false,
        "prompt": ""
       },
       "output_type": "stream",
       "value": "233"
      }
     }
    },
    "collapsed": false
   },
   "outputs": [
    {
     "name": "stdout",
     "output_type": "stream",
     "text": " 5"
    },
    {
     "name": "stdout",
     "output_type": "stream",
     "text": " 1 5 18 45 78"
    },
    {
     "name": "stdout",
     "output_type": "stream",
     "text": " 233"
    },
    {
     "name": "stdout",
     "output_type": "stream",
     "text": [
      "7\n"
     ]
    }
   ],
   "source": [
    "\n",
    "def changeCoins(coins, n):\n",
    "  if n < 0: return None\n",
    "  dp, path = [0] * (n+1), [0] * (n+1)\n",
    "  for i in range(1, n+1):\n",
    "    minNum = i\n",
    "    for c in coins:\n",
    "      if i >= c and minNum > dp[i-c]+1:\n",
    "        minNum, path[i] = dp[i-c]+1, i - c\n",
    "    dp[i] = minNum\n",
    "  print(dp[-1])\n",
    "\n",
    "if __name__ == '__main__':\n",
    "     num = int(input())\n",
    "     coins = [int(i) for i in input().split()]\n",
    "     n = int(input())\n",
    "     changeCoins(coins, n)"
   ]
  }
 ],
 "metadata": {
  "kernelspec": {
   "display_name": "Python 3 (system-wide)",
   "language": "python",
   "metadata": {
    "cocalc": {
     "description": "Python 3 programming language",
     "priority": 100,
     "url": "https://www.python.org/"
    }
   },
   "name": "python3"
  },
  "language_info": {
   "codemirror_mode": {
    "name": "ipython",
    "version": 3
   },
   "file_extension": ".py",
   "mimetype": "text/x-python",
   "name": "python",
   "nbconvert_exporter": "python",
   "pygments_lexer": "ipython3",
   "version": "3.6.9"
  }
 },
 "nbformat": 4,
 "nbformat_minor": 4
}